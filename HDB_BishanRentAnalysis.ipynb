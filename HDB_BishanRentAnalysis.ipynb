{
  "nbformat": 4,
  "nbformat_minor": 0,
  "metadata": {
    "colab": {
      "provenance": [],
      "toc_visible": true,
      "gpuType": "T4",
      "mount_file_id": "1TBzwTGfx1QVdgncBFM9FvseIR4m662tc",
      "authorship_tag": "ABX9TyO1oK+gJMebpwqSkgsVZU6M"
    },
    "kernelspec": {
      "name": "python3",
      "display_name": "Python 3"
    },
    "language_info": {
      "name": "python"
    },
    "accelerator": "GPU"
  },
  "cells": [
    {
      "cell_type": "code",
      "source": [
        "from google.colab import drive\n",
        "drive.mount('/content/drive')"
      ],
      "metadata": {
        "colab": {
          "base_uri": "https://localhost:8080/"
        },
        "id": "WN-nTEcE65T4",
        "outputId": "6cc024e2-fa50-4976-fdbf-3e4bc0c6fa89"
      },
      "execution_count": 1,
      "outputs": [
        {
          "output_type": "stream",
          "name": "stdout",
          "text": [
            "Drive already mounted at /content/drive; to attempt to forcibly remount, call drive.mount(\"/content/drive\", force_remount=True).\n"
          ]
        }
      ]
    },
    {
      "cell_type": "markdown",
      "source": [
        "#Import data"
      ],
      "metadata": {
        "id": "xhFVylunuTRS"
      }
    },
    {
      "cell_type": "code",
      "source": [
        "import pandas as pd\n",
        "HDBData=pd.read_csv(\"/content/drive/MyDrive/HDB data/Project dataset/Median Rent by Town and Flat Type/MedianRentByTownAndFlatType.csv\")\n",
        "HDBData.head(15)"
      ],
      "metadata": {
        "colab": {
          "base_uri": "https://localhost:8080/",
          "height": 519
        },
        "id": "z7hX6Clq7HAc",
        "outputId": "69f6ae71-3fca-4143-ef9f-3ca5aacbfd1e"
      },
      "execution_count": 2,
      "outputs": [
        {
          "output_type": "execute_result",
          "data": {
            "text/plain": [
              "    quarter        town flat_type                      median_rent\n",
              "0   2005-Q2  ANG MO KIO      1-RM       na                        \n",
              "1   2005-Q2  ANG MO KIO      2-RM       na                        \n",
              "2   2005-Q2  ANG MO KIO      3-RM                              800\n",
              "3   2005-Q2  ANG MO KIO      4-RM                              950\n",
              "4   2005-Q2  ANG MO KIO      5-RM       -                         \n",
              "5   2005-Q2  ANG MO KIO      EXEC       na                        \n",
              "6   2005-Q2       BEDOK      1-RM  na                             \n",
              "7   2005-Q2       BEDOK      2-RM  na                             \n",
              "8   2005-Q2       BEDOK      3-RM                              800\n",
              "9   2005-Q2       BEDOK      4-RM                              900\n",
              "10  2005-Q2       BEDOK      5-RM                             1025\n",
              "11  2005-Q2       BEDOK      EXEC  -                              \n",
              "12  2005-Q2      BISHAN      1-RM   na                            \n",
              "13  2005-Q2      BISHAN      2-RM   na                            \n",
              "14  2005-Q2      BISHAN      3-RM   -                             "
            ],
            "text/html": [
              "\n",
              "  <div id=\"df-a21f4e1d-569a-45c7-aefb-c9cdd4d08947\" class=\"colab-df-container\">\n",
              "    <div>\n",
              "<style scoped>\n",
              "    .dataframe tbody tr th:only-of-type {\n",
              "        vertical-align: middle;\n",
              "    }\n",
              "\n",
              "    .dataframe tbody tr th {\n",
              "        vertical-align: top;\n",
              "    }\n",
              "\n",
              "    .dataframe thead th {\n",
              "        text-align: right;\n",
              "    }\n",
              "</style>\n",
              "<table border=\"1\" class=\"dataframe\">\n",
              "  <thead>\n",
              "    <tr style=\"text-align: right;\">\n",
              "      <th></th>\n",
              "      <th>quarter</th>\n",
              "      <th>town</th>\n",
              "      <th>flat_type</th>\n",
              "      <th>median_rent</th>\n",
              "    </tr>\n",
              "  </thead>\n",
              "  <tbody>\n",
              "    <tr>\n",
              "      <th>0</th>\n",
              "      <td>2005-Q2</td>\n",
              "      <td>ANG MO KIO</td>\n",
              "      <td>1-RM</td>\n",
              "      <td>na</td>\n",
              "    </tr>\n",
              "    <tr>\n",
              "      <th>1</th>\n",
              "      <td>2005-Q2</td>\n",
              "      <td>ANG MO KIO</td>\n",
              "      <td>2-RM</td>\n",
              "      <td>na</td>\n",
              "    </tr>\n",
              "    <tr>\n",
              "      <th>2</th>\n",
              "      <td>2005-Q2</td>\n",
              "      <td>ANG MO KIO</td>\n",
              "      <td>3-RM</td>\n",
              "      <td>800</td>\n",
              "    </tr>\n",
              "    <tr>\n",
              "      <th>3</th>\n",
              "      <td>2005-Q2</td>\n",
              "      <td>ANG MO KIO</td>\n",
              "      <td>4-RM</td>\n",
              "      <td>950</td>\n",
              "    </tr>\n",
              "    <tr>\n",
              "      <th>4</th>\n",
              "      <td>2005-Q2</td>\n",
              "      <td>ANG MO KIO</td>\n",
              "      <td>5-RM</td>\n",
              "      <td>-</td>\n",
              "    </tr>\n",
              "    <tr>\n",
              "      <th>5</th>\n",
              "      <td>2005-Q2</td>\n",
              "      <td>ANG MO KIO</td>\n",
              "      <td>EXEC</td>\n",
              "      <td>na</td>\n",
              "    </tr>\n",
              "    <tr>\n",
              "      <th>6</th>\n",
              "      <td>2005-Q2</td>\n",
              "      <td>BEDOK</td>\n",
              "      <td>1-RM</td>\n",
              "      <td>na</td>\n",
              "    </tr>\n",
              "    <tr>\n",
              "      <th>7</th>\n",
              "      <td>2005-Q2</td>\n",
              "      <td>BEDOK</td>\n",
              "      <td>2-RM</td>\n",
              "      <td>na</td>\n",
              "    </tr>\n",
              "    <tr>\n",
              "      <th>8</th>\n",
              "      <td>2005-Q2</td>\n",
              "      <td>BEDOK</td>\n",
              "      <td>3-RM</td>\n",
              "      <td>800</td>\n",
              "    </tr>\n",
              "    <tr>\n",
              "      <th>9</th>\n",
              "      <td>2005-Q2</td>\n",
              "      <td>BEDOK</td>\n",
              "      <td>4-RM</td>\n",
              "      <td>900</td>\n",
              "    </tr>\n",
              "    <tr>\n",
              "      <th>10</th>\n",
              "      <td>2005-Q2</td>\n",
              "      <td>BEDOK</td>\n",
              "      <td>5-RM</td>\n",
              "      <td>1025</td>\n",
              "    </tr>\n",
              "    <tr>\n",
              "      <th>11</th>\n",
              "      <td>2005-Q2</td>\n",
              "      <td>BEDOK</td>\n",
              "      <td>EXEC</td>\n",
              "      <td>-</td>\n",
              "    </tr>\n",
              "    <tr>\n",
              "      <th>12</th>\n",
              "      <td>2005-Q2</td>\n",
              "      <td>BISHAN</td>\n",
              "      <td>1-RM</td>\n",
              "      <td>na</td>\n",
              "    </tr>\n",
              "    <tr>\n",
              "      <th>13</th>\n",
              "      <td>2005-Q2</td>\n",
              "      <td>BISHAN</td>\n",
              "      <td>2-RM</td>\n",
              "      <td>na</td>\n",
              "    </tr>\n",
              "    <tr>\n",
              "      <th>14</th>\n",
              "      <td>2005-Q2</td>\n",
              "      <td>BISHAN</td>\n",
              "      <td>3-RM</td>\n",
              "      <td>-</td>\n",
              "    </tr>\n",
              "  </tbody>\n",
              "</table>\n",
              "</div>\n",
              "    <div class=\"colab-df-buttons\">\n",
              "\n",
              "  <div class=\"colab-df-container\">\n",
              "    <button class=\"colab-df-convert\" onclick=\"convertToInteractive('df-a21f4e1d-569a-45c7-aefb-c9cdd4d08947')\"\n",
              "            title=\"Convert this dataframe to an interactive table.\"\n",
              "            style=\"display:none;\">\n",
              "\n",
              "  <svg xmlns=\"http://www.w3.org/2000/svg\" height=\"24px\" viewBox=\"0 -960 960 960\">\n",
              "    <path d=\"M120-120v-720h720v720H120Zm60-500h600v-160H180v160Zm220 220h160v-160H400v160Zm0 220h160v-160H400v160ZM180-400h160v-160H180v160Zm440 0h160v-160H620v160ZM180-180h160v-160H180v160Zm440 0h160v-160H620v160Z\"/>\n",
              "  </svg>\n",
              "    </button>\n",
              "\n",
              "  <style>\n",
              "    .colab-df-container {\n",
              "      display:flex;\n",
              "      gap: 12px;\n",
              "    }\n",
              "\n",
              "    .colab-df-convert {\n",
              "      background-color: #E8F0FE;\n",
              "      border: none;\n",
              "      border-radius: 50%;\n",
              "      cursor: pointer;\n",
              "      display: none;\n",
              "      fill: #1967D2;\n",
              "      height: 32px;\n",
              "      padding: 0 0 0 0;\n",
              "      width: 32px;\n",
              "    }\n",
              "\n",
              "    .colab-df-convert:hover {\n",
              "      background-color: #E2EBFA;\n",
              "      box-shadow: 0px 1px 2px rgba(60, 64, 67, 0.3), 0px 1px 3px 1px rgba(60, 64, 67, 0.15);\n",
              "      fill: #174EA6;\n",
              "    }\n",
              "\n",
              "    .colab-df-buttons div {\n",
              "      margin-bottom: 4px;\n",
              "    }\n",
              "\n",
              "    [theme=dark] .colab-df-convert {\n",
              "      background-color: #3B4455;\n",
              "      fill: #D2E3FC;\n",
              "    }\n",
              "\n",
              "    [theme=dark] .colab-df-convert:hover {\n",
              "      background-color: #434B5C;\n",
              "      box-shadow: 0px 1px 3px 1px rgba(0, 0, 0, 0.15);\n",
              "      filter: drop-shadow(0px 1px 2px rgba(0, 0, 0, 0.3));\n",
              "      fill: #FFFFFF;\n",
              "    }\n",
              "  </style>\n",
              "\n",
              "    <script>\n",
              "      const buttonEl =\n",
              "        document.querySelector('#df-a21f4e1d-569a-45c7-aefb-c9cdd4d08947 button.colab-df-convert');\n",
              "      buttonEl.style.display =\n",
              "        google.colab.kernel.accessAllowed ? 'block' : 'none';\n",
              "\n",
              "      async function convertToInteractive(key) {\n",
              "        const element = document.querySelector('#df-a21f4e1d-569a-45c7-aefb-c9cdd4d08947');\n",
              "        const dataTable =\n",
              "          await google.colab.kernel.invokeFunction('convertToInteractive',\n",
              "                                                    [key], {});\n",
              "        if (!dataTable) return;\n",
              "\n",
              "        const docLinkHtml = 'Like what you see? Visit the ' +\n",
              "          '<a target=\"_blank\" href=https://colab.research.google.com/notebooks/data_table.ipynb>data table notebook</a>'\n",
              "          + ' to learn more about interactive tables.';\n",
              "        element.innerHTML = '';\n",
              "        dataTable['output_type'] = 'display_data';\n",
              "        await google.colab.output.renderOutput(dataTable, element);\n",
              "        const docLink = document.createElement('div');\n",
              "        docLink.innerHTML = docLinkHtml;\n",
              "        element.appendChild(docLink);\n",
              "      }\n",
              "    </script>\n",
              "  </div>\n",
              "\n",
              "\n",
              "<div id=\"df-68847811-461f-4ff5-8c75-f86cbc715525\">\n",
              "  <button class=\"colab-df-quickchart\" onclick=\"quickchart('df-68847811-461f-4ff5-8c75-f86cbc715525')\"\n",
              "            title=\"Suggest charts.\"\n",
              "            style=\"display:none;\">\n",
              "\n",
              "<svg xmlns=\"http://www.w3.org/2000/svg\" height=\"24px\"viewBox=\"0 0 24 24\"\n",
              "     width=\"24px\">\n",
              "    <g>\n",
              "        <path d=\"M19 3H5c-1.1 0-2 .9-2 2v14c0 1.1.9 2 2 2h14c1.1 0 2-.9 2-2V5c0-1.1-.9-2-2-2zM9 17H7v-7h2v7zm4 0h-2V7h2v10zm4 0h-2v-4h2v4z\"/>\n",
              "    </g>\n",
              "</svg>\n",
              "  </button>\n",
              "\n",
              "<style>\n",
              "  .colab-df-quickchart {\n",
              "      --bg-color: #E8F0FE;\n",
              "      --fill-color: #1967D2;\n",
              "      --hover-bg-color: #E2EBFA;\n",
              "      --hover-fill-color: #174EA6;\n",
              "      --disabled-fill-color: #AAA;\n",
              "      --disabled-bg-color: #DDD;\n",
              "  }\n",
              "\n",
              "  [theme=dark] .colab-df-quickchart {\n",
              "      --bg-color: #3B4455;\n",
              "      --fill-color: #D2E3FC;\n",
              "      --hover-bg-color: #434B5C;\n",
              "      --hover-fill-color: #FFFFFF;\n",
              "      --disabled-bg-color: #3B4455;\n",
              "      --disabled-fill-color: #666;\n",
              "  }\n",
              "\n",
              "  .colab-df-quickchart {\n",
              "    background-color: var(--bg-color);\n",
              "    border: none;\n",
              "    border-radius: 50%;\n",
              "    cursor: pointer;\n",
              "    display: none;\n",
              "    fill: var(--fill-color);\n",
              "    height: 32px;\n",
              "    padding: 0;\n",
              "    width: 32px;\n",
              "  }\n",
              "\n",
              "  .colab-df-quickchart:hover {\n",
              "    background-color: var(--hover-bg-color);\n",
              "    box-shadow: 0 1px 2px rgba(60, 64, 67, 0.3), 0 1px 3px 1px rgba(60, 64, 67, 0.15);\n",
              "    fill: var(--button-hover-fill-color);\n",
              "  }\n",
              "\n",
              "  .colab-df-quickchart-complete:disabled,\n",
              "  .colab-df-quickchart-complete:disabled:hover {\n",
              "    background-color: var(--disabled-bg-color);\n",
              "    fill: var(--disabled-fill-color);\n",
              "    box-shadow: none;\n",
              "  }\n",
              "\n",
              "  .colab-df-spinner {\n",
              "    border: 2px solid var(--fill-color);\n",
              "    border-color: transparent;\n",
              "    border-bottom-color: var(--fill-color);\n",
              "    animation:\n",
              "      spin 1s steps(1) infinite;\n",
              "  }\n",
              "\n",
              "  @keyframes spin {\n",
              "    0% {\n",
              "      border-color: transparent;\n",
              "      border-bottom-color: var(--fill-color);\n",
              "      border-left-color: var(--fill-color);\n",
              "    }\n",
              "    20% {\n",
              "      border-color: transparent;\n",
              "      border-left-color: var(--fill-color);\n",
              "      border-top-color: var(--fill-color);\n",
              "    }\n",
              "    30% {\n",
              "      border-color: transparent;\n",
              "      border-left-color: var(--fill-color);\n",
              "      border-top-color: var(--fill-color);\n",
              "      border-right-color: var(--fill-color);\n",
              "    }\n",
              "    40% {\n",
              "      border-color: transparent;\n",
              "      border-right-color: var(--fill-color);\n",
              "      border-top-color: var(--fill-color);\n",
              "    }\n",
              "    60% {\n",
              "      border-color: transparent;\n",
              "      border-right-color: var(--fill-color);\n",
              "    }\n",
              "    80% {\n",
              "      border-color: transparent;\n",
              "      border-right-color: var(--fill-color);\n",
              "      border-bottom-color: var(--fill-color);\n",
              "    }\n",
              "    90% {\n",
              "      border-color: transparent;\n",
              "      border-bottom-color: var(--fill-color);\n",
              "    }\n",
              "  }\n",
              "</style>\n",
              "\n",
              "  <script>\n",
              "    async function quickchart(key) {\n",
              "      const quickchartButtonEl =\n",
              "        document.querySelector('#' + key + ' button');\n",
              "      quickchartButtonEl.disabled = true;  // To prevent multiple clicks.\n",
              "      quickchartButtonEl.classList.add('colab-df-spinner');\n",
              "      try {\n",
              "        const charts = await google.colab.kernel.invokeFunction(\n",
              "            'suggestCharts', [key], {});\n",
              "      } catch (error) {\n",
              "        console.error('Error during call to suggestCharts:', error);\n",
              "      }\n",
              "      quickchartButtonEl.classList.remove('colab-df-spinner');\n",
              "      quickchartButtonEl.classList.add('colab-df-quickchart-complete');\n",
              "    }\n",
              "    (() => {\n",
              "      let quickchartButtonEl =\n",
              "        document.querySelector('#df-68847811-461f-4ff5-8c75-f86cbc715525 button');\n",
              "      quickchartButtonEl.style.display =\n",
              "        google.colab.kernel.accessAllowed ? 'block' : 'none';\n",
              "    })();\n",
              "  </script>\n",
              "</div>\n",
              "    </div>\n",
              "  </div>\n"
            ]
          },
          "metadata": {},
          "execution_count": 2
        }
      ]
    },
    {
      "cell_type": "markdown",
      "source": [
        "#Clean data"
      ],
      "metadata": {
        "id": "qky1su0buhKz"
      }
    },
    {
      "cell_type": "code",
      "source": [
        "dataCleaned=HDBData[~HDBData.median_rent.str.contains(\"-|na\")]\n",
        "# ~ is to reverse select the rows. So the results don't contain - or na\n",
        "dataCleaned.head(10)"
      ],
      "metadata": {
        "colab": {
          "base_uri": "https://localhost:8080/",
          "height": 363
        },
        "id": "R2kYwi9_7zdB",
        "outputId": "c4bc72be-01b5-4745-a45f-ddf3b1d9bd6c"
      },
      "execution_count": 3,
      "outputs": [
        {
          "output_type": "execute_result",
          "data": {
            "text/plain": [
              "    quarter         town flat_type median_rent\n",
              "2   2005-Q2   ANG MO KIO      3-RM         800\n",
              "3   2005-Q2   ANG MO KIO      4-RM         950\n",
              "8   2005-Q2        BEDOK      3-RM         800\n",
              "9   2005-Q2        BEDOK      4-RM         900\n",
              "10  2005-Q2        BEDOK      5-RM        1025\n",
              "15  2005-Q2       BISHAN      4-RM        1000\n",
              "16  2005-Q2       BISHAN      5-RM        1100\n",
              "20  2005-Q2  BUKIT BATOK      3-RM         745\n",
              "21  2005-Q2  BUKIT BATOK      4-RM         925\n",
              "26  2005-Q2  BUKIT MERAH      3-RM         850"
            ],
            "text/html": [
              "\n",
              "  <div id=\"df-0cc85317-267f-4c4b-9551-2e56d411523f\" class=\"colab-df-container\">\n",
              "    <div>\n",
              "<style scoped>\n",
              "    .dataframe tbody tr th:only-of-type {\n",
              "        vertical-align: middle;\n",
              "    }\n",
              "\n",
              "    .dataframe tbody tr th {\n",
              "        vertical-align: top;\n",
              "    }\n",
              "\n",
              "    .dataframe thead th {\n",
              "        text-align: right;\n",
              "    }\n",
              "</style>\n",
              "<table border=\"1\" class=\"dataframe\">\n",
              "  <thead>\n",
              "    <tr style=\"text-align: right;\">\n",
              "      <th></th>\n",
              "      <th>quarter</th>\n",
              "      <th>town</th>\n",
              "      <th>flat_type</th>\n",
              "      <th>median_rent</th>\n",
              "    </tr>\n",
              "  </thead>\n",
              "  <tbody>\n",
              "    <tr>\n",
              "      <th>2</th>\n",
              "      <td>2005-Q2</td>\n",
              "      <td>ANG MO KIO</td>\n",
              "      <td>3-RM</td>\n",
              "      <td>800</td>\n",
              "    </tr>\n",
              "    <tr>\n",
              "      <th>3</th>\n",
              "      <td>2005-Q2</td>\n",
              "      <td>ANG MO KIO</td>\n",
              "      <td>4-RM</td>\n",
              "      <td>950</td>\n",
              "    </tr>\n",
              "    <tr>\n",
              "      <th>8</th>\n",
              "      <td>2005-Q2</td>\n",
              "      <td>BEDOK</td>\n",
              "      <td>3-RM</td>\n",
              "      <td>800</td>\n",
              "    </tr>\n",
              "    <tr>\n",
              "      <th>9</th>\n",
              "      <td>2005-Q2</td>\n",
              "      <td>BEDOK</td>\n",
              "      <td>4-RM</td>\n",
              "      <td>900</td>\n",
              "    </tr>\n",
              "    <tr>\n",
              "      <th>10</th>\n",
              "      <td>2005-Q2</td>\n",
              "      <td>BEDOK</td>\n",
              "      <td>5-RM</td>\n",
              "      <td>1025</td>\n",
              "    </tr>\n",
              "    <tr>\n",
              "      <th>15</th>\n",
              "      <td>2005-Q2</td>\n",
              "      <td>BISHAN</td>\n",
              "      <td>4-RM</td>\n",
              "      <td>1000</td>\n",
              "    </tr>\n",
              "    <tr>\n",
              "      <th>16</th>\n",
              "      <td>2005-Q2</td>\n",
              "      <td>BISHAN</td>\n",
              "      <td>5-RM</td>\n",
              "      <td>1100</td>\n",
              "    </tr>\n",
              "    <tr>\n",
              "      <th>20</th>\n",
              "      <td>2005-Q2</td>\n",
              "      <td>BUKIT BATOK</td>\n",
              "      <td>3-RM</td>\n",
              "      <td>745</td>\n",
              "    </tr>\n",
              "    <tr>\n",
              "      <th>21</th>\n",
              "      <td>2005-Q2</td>\n",
              "      <td>BUKIT BATOK</td>\n",
              "      <td>4-RM</td>\n",
              "      <td>925</td>\n",
              "    </tr>\n",
              "    <tr>\n",
              "      <th>26</th>\n",
              "      <td>2005-Q2</td>\n",
              "      <td>BUKIT MERAH</td>\n",
              "      <td>3-RM</td>\n",
              "      <td>850</td>\n",
              "    </tr>\n",
              "  </tbody>\n",
              "</table>\n",
              "</div>\n",
              "    <div class=\"colab-df-buttons\">\n",
              "\n",
              "  <div class=\"colab-df-container\">\n",
              "    <button class=\"colab-df-convert\" onclick=\"convertToInteractive('df-0cc85317-267f-4c4b-9551-2e56d411523f')\"\n",
              "            title=\"Convert this dataframe to an interactive table.\"\n",
              "            style=\"display:none;\">\n",
              "\n",
              "  <svg xmlns=\"http://www.w3.org/2000/svg\" height=\"24px\" viewBox=\"0 -960 960 960\">\n",
              "    <path d=\"M120-120v-720h720v720H120Zm60-500h600v-160H180v160Zm220 220h160v-160H400v160Zm0 220h160v-160H400v160ZM180-400h160v-160H180v160Zm440 0h160v-160H620v160ZM180-180h160v-160H180v160Zm440 0h160v-160H620v160Z\"/>\n",
              "  </svg>\n",
              "    </button>\n",
              "\n",
              "  <style>\n",
              "    .colab-df-container {\n",
              "      display:flex;\n",
              "      gap: 12px;\n",
              "    }\n",
              "\n",
              "    .colab-df-convert {\n",
              "      background-color: #E8F0FE;\n",
              "      border: none;\n",
              "      border-radius: 50%;\n",
              "      cursor: pointer;\n",
              "      display: none;\n",
              "      fill: #1967D2;\n",
              "      height: 32px;\n",
              "      padding: 0 0 0 0;\n",
              "      width: 32px;\n",
              "    }\n",
              "\n",
              "    .colab-df-convert:hover {\n",
              "      background-color: #E2EBFA;\n",
              "      box-shadow: 0px 1px 2px rgba(60, 64, 67, 0.3), 0px 1px 3px 1px rgba(60, 64, 67, 0.15);\n",
              "      fill: #174EA6;\n",
              "    }\n",
              "\n",
              "    .colab-df-buttons div {\n",
              "      margin-bottom: 4px;\n",
              "    }\n",
              "\n",
              "    [theme=dark] .colab-df-convert {\n",
              "      background-color: #3B4455;\n",
              "      fill: #D2E3FC;\n",
              "    }\n",
              "\n",
              "    [theme=dark] .colab-df-convert:hover {\n",
              "      background-color: #434B5C;\n",
              "      box-shadow: 0px 1px 3px 1px rgba(0, 0, 0, 0.15);\n",
              "      filter: drop-shadow(0px 1px 2px rgba(0, 0, 0, 0.3));\n",
              "      fill: #FFFFFF;\n",
              "    }\n",
              "  </style>\n",
              "\n",
              "    <script>\n",
              "      const buttonEl =\n",
              "        document.querySelector('#df-0cc85317-267f-4c4b-9551-2e56d411523f button.colab-df-convert');\n",
              "      buttonEl.style.display =\n",
              "        google.colab.kernel.accessAllowed ? 'block' : 'none';\n",
              "\n",
              "      async function convertToInteractive(key) {\n",
              "        const element = document.querySelector('#df-0cc85317-267f-4c4b-9551-2e56d411523f');\n",
              "        const dataTable =\n",
              "          await google.colab.kernel.invokeFunction('convertToInteractive',\n",
              "                                                    [key], {});\n",
              "        if (!dataTable) return;\n",
              "\n",
              "        const docLinkHtml = 'Like what you see? Visit the ' +\n",
              "          '<a target=\"_blank\" href=https://colab.research.google.com/notebooks/data_table.ipynb>data table notebook</a>'\n",
              "          + ' to learn more about interactive tables.';\n",
              "        element.innerHTML = '';\n",
              "        dataTable['output_type'] = 'display_data';\n",
              "        await google.colab.output.renderOutput(dataTable, element);\n",
              "        const docLink = document.createElement('div');\n",
              "        docLink.innerHTML = docLinkHtml;\n",
              "        element.appendChild(docLink);\n",
              "      }\n",
              "    </script>\n",
              "  </div>\n",
              "\n",
              "\n",
              "<div id=\"df-ee0aafd7-8a77-4cb8-ac96-21d4a3a017fa\">\n",
              "  <button class=\"colab-df-quickchart\" onclick=\"quickchart('df-ee0aafd7-8a77-4cb8-ac96-21d4a3a017fa')\"\n",
              "            title=\"Suggest charts.\"\n",
              "            style=\"display:none;\">\n",
              "\n",
              "<svg xmlns=\"http://www.w3.org/2000/svg\" height=\"24px\"viewBox=\"0 0 24 24\"\n",
              "     width=\"24px\">\n",
              "    <g>\n",
              "        <path d=\"M19 3H5c-1.1 0-2 .9-2 2v14c0 1.1.9 2 2 2h14c1.1 0 2-.9 2-2V5c0-1.1-.9-2-2-2zM9 17H7v-7h2v7zm4 0h-2V7h2v10zm4 0h-2v-4h2v4z\"/>\n",
              "    </g>\n",
              "</svg>\n",
              "  </button>\n",
              "\n",
              "<style>\n",
              "  .colab-df-quickchart {\n",
              "      --bg-color: #E8F0FE;\n",
              "      --fill-color: #1967D2;\n",
              "      --hover-bg-color: #E2EBFA;\n",
              "      --hover-fill-color: #174EA6;\n",
              "      --disabled-fill-color: #AAA;\n",
              "      --disabled-bg-color: #DDD;\n",
              "  }\n",
              "\n",
              "  [theme=dark] .colab-df-quickchart {\n",
              "      --bg-color: #3B4455;\n",
              "      --fill-color: #D2E3FC;\n",
              "      --hover-bg-color: #434B5C;\n",
              "      --hover-fill-color: #FFFFFF;\n",
              "      --disabled-bg-color: #3B4455;\n",
              "      --disabled-fill-color: #666;\n",
              "  }\n",
              "\n",
              "  .colab-df-quickchart {\n",
              "    background-color: var(--bg-color);\n",
              "    border: none;\n",
              "    border-radius: 50%;\n",
              "    cursor: pointer;\n",
              "    display: none;\n",
              "    fill: var(--fill-color);\n",
              "    height: 32px;\n",
              "    padding: 0;\n",
              "    width: 32px;\n",
              "  }\n",
              "\n",
              "  .colab-df-quickchart:hover {\n",
              "    background-color: var(--hover-bg-color);\n",
              "    box-shadow: 0 1px 2px rgba(60, 64, 67, 0.3), 0 1px 3px 1px rgba(60, 64, 67, 0.15);\n",
              "    fill: var(--button-hover-fill-color);\n",
              "  }\n",
              "\n",
              "  .colab-df-quickchart-complete:disabled,\n",
              "  .colab-df-quickchart-complete:disabled:hover {\n",
              "    background-color: var(--disabled-bg-color);\n",
              "    fill: var(--disabled-fill-color);\n",
              "    box-shadow: none;\n",
              "  }\n",
              "\n",
              "  .colab-df-spinner {\n",
              "    border: 2px solid var(--fill-color);\n",
              "    border-color: transparent;\n",
              "    border-bottom-color: var(--fill-color);\n",
              "    animation:\n",
              "      spin 1s steps(1) infinite;\n",
              "  }\n",
              "\n",
              "  @keyframes spin {\n",
              "    0% {\n",
              "      border-color: transparent;\n",
              "      border-bottom-color: var(--fill-color);\n",
              "      border-left-color: var(--fill-color);\n",
              "    }\n",
              "    20% {\n",
              "      border-color: transparent;\n",
              "      border-left-color: var(--fill-color);\n",
              "      border-top-color: var(--fill-color);\n",
              "    }\n",
              "    30% {\n",
              "      border-color: transparent;\n",
              "      border-left-color: var(--fill-color);\n",
              "      border-top-color: var(--fill-color);\n",
              "      border-right-color: var(--fill-color);\n",
              "    }\n",
              "    40% {\n",
              "      border-color: transparent;\n",
              "      border-right-color: var(--fill-color);\n",
              "      border-top-color: var(--fill-color);\n",
              "    }\n",
              "    60% {\n",
              "      border-color: transparent;\n",
              "      border-right-color: var(--fill-color);\n",
              "    }\n",
              "    80% {\n",
              "      border-color: transparent;\n",
              "      border-right-color: var(--fill-color);\n",
              "      border-bottom-color: var(--fill-color);\n",
              "    }\n",
              "    90% {\n",
              "      border-color: transparent;\n",
              "      border-bottom-color: var(--fill-color);\n",
              "    }\n",
              "  }\n",
              "</style>\n",
              "\n",
              "  <script>\n",
              "    async function quickchart(key) {\n",
              "      const quickchartButtonEl =\n",
              "        document.querySelector('#' + key + ' button');\n",
              "      quickchartButtonEl.disabled = true;  // To prevent multiple clicks.\n",
              "      quickchartButtonEl.classList.add('colab-df-spinner');\n",
              "      try {\n",
              "        const charts = await google.colab.kernel.invokeFunction(\n",
              "            'suggestCharts', [key], {});\n",
              "      } catch (error) {\n",
              "        console.error('Error during call to suggestCharts:', error);\n",
              "      }\n",
              "      quickchartButtonEl.classList.remove('colab-df-spinner');\n",
              "      quickchartButtonEl.classList.add('colab-df-quickchart-complete');\n",
              "    }\n",
              "    (() => {\n",
              "      let quickchartButtonEl =\n",
              "        document.querySelector('#df-ee0aafd7-8a77-4cb8-ac96-21d4a3a017fa button');\n",
              "      quickchartButtonEl.style.display =\n",
              "        google.colab.kernel.accessAllowed ? 'block' : 'none';\n",
              "    })();\n",
              "  </script>\n",
              "</div>\n",
              "    </div>\n",
              "  </div>\n"
            ]
          },
          "metadata": {},
          "execution_count": 3
        }
      ]
    },
    {
      "cell_type": "code",
      "source": [
        "dataCleaned[\"median_rent\"]=dataCleaned[\"median_rent\"].astype(int)"
      ],
      "metadata": {
        "id": "of6AY-C9_v0B"
      },
      "execution_count": null,
      "outputs": []
    },
    {
      "cell_type": "markdown",
      "source": [
        "##Draw a boxplot on Bishan data"
      ],
      "metadata": {
        "id": "SXpeuQ6cutCz"
      }
    },
    {
      "cell_type": "code",
      "source": [
        "print(dataCleaned.dtypes)\n",
        "print(dataCleaned.describe())\n",
        "dataCleaned.boxplot(column=['median_rent'])"
      ],
      "metadata": {
        "colab": {
          "base_uri": "https://localhost:8080/",
          "height": 705
        },
        "id": "4i2QOnKABb_t",
        "outputId": "4ce5d7e3-e250-43d2-bbe5-0073f3b28817"
      },
      "execution_count": 5,
      "outputs": [
        {
          "output_type": "stream",
          "name": "stdout",
          "text": [
            "quarter        object\n",
            "town           object\n",
            "flat_type      object\n",
            "median_rent     int64\n",
            "dtype: object\n",
            "       median_rent\n",
            "count  5307.000000\n",
            "mean   2071.667609\n",
            "std     524.375364\n",
            "min     300.000000\n",
            "25%    1800.000000\n",
            "50%    2100.000000\n",
            "75%    2400.000000\n",
            "max    4300.000000\n"
          ]
        },
        {
          "output_type": "execute_result",
          "data": {
            "text/plain": [
              "<Axes: >"
            ]
          },
          "metadata": {},
          "execution_count": 5
        },
        {
          "output_type": "display_data",
          "data": {
            "text/plain": [
              "<Figure size 640x480 with 1 Axes>"
            ],
            "image/png": "[encoded data removed]"
          },
          "metadata": {}
        }
      ]
    },
    {
      "cell_type": "code",
      "source": [
        "dataBishan=dataCleaned[dataCleaned.town.str.contains('BISHAN')]\n",
        "print(dataBishan.head())\n",
        "print(dataBishan.describe(include=\"all\"))"
      ],
      "metadata": {
        "colab": {
          "base_uri": "https://localhost:8080/"
        },
        "id": "yhqCeYDTEjsX",
        "outputId": "d2a732a4-3cb8-4fed-90d2-7ae872c58eaf"
      },
      "execution_count": 6,
      "outputs": [
        {
          "output_type": "stream",
          "name": "stdout",
          "text": [
            "     quarter    town flat_type  median_rent\n",
            "15   2005-Q2  BISHAN      4-RM         1000\n",
            "16   2005-Q2  BISHAN      5-RM         1100\n",
            "176  2005-Q3  BISHAN      3-RM          780\n",
            "177  2005-Q3  BISHAN      4-RM         1050\n",
            "178  2005-Q3  BISHAN      5-RM         1200\n",
            "        quarter    town flat_type  median_rent\n",
            "count       202     202       202   202.000000\n",
            "unique       71       2         4          NaN\n",
            "top     2020-Q1  BISHAN      4-RM          NaN\n",
            "freq          6     124        72          NaN\n",
            "mean        NaN     NaN       NaN  2188.168317\n",
            "std         NaN     NaN       NaN   516.070458\n",
            "min         NaN     NaN       NaN   780.000000\n",
            "25%         NaN     NaN       NaN  1885.000000\n",
            "50%         NaN     NaN       NaN  2250.000000\n",
            "75%         NaN     NaN       NaN  2587.500000\n",
            "max         NaN     NaN       NaN  3550.000000\n"
          ]
        }
      ]
    },
    {
      "cell_type": "markdown",
      "source": [
        "##Convert string to datetime format"
      ],
      "metadata": {
        "id": "6-VXYboEu61y"
      }
    },
    {
      "cell_type": "code",
      "source": [
        "dataBishan['quarter'] = pd.PeriodIndex(dataBishan['quarter'], freq='Q').to_timestamp()\n",
        "#datetime_object = datetime.strptime(datetime_str, '%m/%d/%y %H:%M:%S')\n",
        "#df['date'] = pd.PeriodIndex(qs, freq='Q').to_timestamp()\n",
        "\n",
        "\n",
        "print(pd.unique(dataBishan.town))\n",
        "print(pd.unique(dataBishan.flat_type))\n",
        "print(pd.unique(dataBishan.quarter))\n",
        "len(pd.unique(dataBishan.quarter))"
      ],
      "metadata": {
        "id": "-4r2EmazGNGR"
      },
      "execution_count": null,
      "outputs": []
    },
    {
      "cell_type": "code",
      "source": [
        "dataBishan.head(10)\n",
        "print(dataBishan.dtypes)"
      ],
      "metadata": {
        "colab": {
          "base_uri": "https://localhost:8080/"
        },
        "id": "LqJWOoc_aGSP",
        "outputId": "38f0df83-ac19-425b-c47c-65b30c8fa507"
      },
      "execution_count": 8,
      "outputs": [
        {
          "output_type": "stream",
          "name": "stdout",
          "text": [
            "quarter        datetime64[ns]\n",
            "town                   object\n",
            "flat_type              object\n",
            "median_rent             int64\n",
            "dtype: object\n"
          ]
        }
      ]
    },
    {
      "cell_type": "markdown",
      "source": [
        "## Strip the white space in string"
      ],
      "metadata": {
        "id": "ceYZomscvIFz"
      }
    },
    {
      "cell_type": "code",
      "source": [
        "dataBishan[\"town\"]=dataBishan[\"town\"].str.replace(\" \",\"\")\n",
        "print(pd.unique(dataBishan.town))"
      ],
      "metadata": {
        "id": "uhRTC5_nH9Fa"
      },
      "execution_count": null,
      "outputs": []
    },
    {
      "cell_type": "markdown",
      "source": [
        "#Import matplotlib to draw data"
      ],
      "metadata": {
        "id": "TuM90ChzvO2D"
      }
    },
    {
      "cell_type": "code",
      "source": [
        "import matplotlib.pyplot as plt\n",
        "\n",
        "#df = df.set_index('year')\n",
        "#df.groupby('plant_var')['yield'].plot(legend=True, marker = 'o', linewidth = 2)\n",
        "#plt.show()\n",
        "\n",
        "#dataBishan = dataBishan.set_index('quarter')\n",
        "dataBishan.groupby('flat_type')['median_rent'].plot(legend=True,marker = '.', linewidth = 1)\n",
        "plt.xlabel('Year')\n",
        "plt.ylabel('Median Rent SGD')\n",
        "plt.title('Bishan Rental Market Price Tend')\n",
        "plt.show()\n"
      ],
      "metadata": {
        "colab": {
          "base_uri": "https://localhost:8080/",
          "height": 472
        },
        "id": "4Hpnw3aTfPMt",
        "outputId": "bd839ef1-a037-426a-e5a1-e5cde74c33fc"
      },
      "execution_count": 10,
      "outputs": [
        {
          "output_type": "display_data",
          "data": {
            "text/plain": [
              "<Figure size 640x480 with 1 Axes>"
            ],
            "image/png": "[encoded data removed]"
          },
          "metadata": {}
        }
      ]
    },
    {
      "cell_type": "markdown",
      "source": [
        "# Draw a boxplot containing various towns"
      ],
      "metadata": {
        "id": "NlMuD-9w6Ejd"
      }
    },
    {
      "cell_type": "code",
      "source": [
        "pd.unique(dataCleaned['town'])"
      ],
      "metadata": {
        "colab": {
          "base_uri": "https://localhost:8080/"
        },
        "id": "23TQUt6x6Zm_",
        "outputId": "dc674aee-ccc7-427f-c60c-5ba4c8062aec"
      },
      "execution_count": 11,
      "outputs": [
        {
          "output_type": "execute_result",
          "data": {
            "text/plain": [
              "array(['ANG MO KIO', 'BEDOK', 'BISHAN', 'BUKIT BATOK', 'BUKIT MERAH',\n",
              "       'CHOA CHU KANG', 'CLEMENTI', 'GEYLANG', 'HOUGANG', 'JURONG EAST',\n",
              "       'JURONG WEST', 'KALLANG/WHAMPOA', 'MARINE PARADE', 'PASIR RIS',\n",
              "       'QUEENSTOWN', 'SEMBAWANG', 'SERANGOON', 'TAMPINES', 'TOA PAYOH',\n",
              "       'WOODLANDS', 'YISHUN', 'SENGKANG', 'CENTRAL', 'BUKIT PANJANG',\n",
              "       'PUNGGOL', 'KALLANG/ WHAMPOA', 'BUKIT TIMAH', 'ANG MO KIO     ',\n",
              "       'BEDOK          ', 'BISHAN         ', 'BUKIT BATOK    ',\n",
              "       'BUKIT MERAH    ', 'BUKIT PANJANG  ', 'CENTRAL        ',\n",
              "       'CHOA CHU KANG  ', 'CLEMENTI       ', 'GEYLANG        ',\n",
              "       'HOUGANG        ', 'JURONG EAST    ', 'JURONG WEST    ',\n",
              "       'MARINE PARADE  ', 'PASIR RIS      ', 'PUNGGOL        ',\n",
              "       'QUEENSTOWN     ', 'SEMBAWANG      ', 'SENGKANG       ',\n",
              "       'SERANGOON      ', 'TAMPINES       ', 'TOA PAYOH      ',\n",
              "       'WOODLANDS      ', 'YISHUN         '], dtype=object)"
            ]
          },
          "metadata": {},
          "execution_count": 11
        }
      ]
    },
    {
      "cell_type": "code",
      "source": [
        "dataCleaned[\"town\"]=dataCleaned.town.str.strip()\n",
        "pd.unique(dataCleaned['town'])"
      ],
      "metadata": {
        "id": "lhC0uiZm8Zh2"
      },
      "execution_count": null,
      "outputs": []
    },
    {
      "cell_type": "code",
      "source": [
        "import seaborn as sns\n",
        "sns.set_style(\"whitegrid\")\n",
        "ax=sns.boxplot(x=\"town\", y=\"median_rent\", data=dataCleaned)\n",
        "plt.xticks(rotation=90)\n",
        "plt.ylabel(\"Median Rent SGD\")\n",
        "plt.xlabel(\"Town\")\n",
        "plt.title(\"HDB Rents Boxplot Across Towns\")\n",
        "plt.show()\n"
      ],
      "metadata": {
        "colab": {
          "base_uri": "https://localhost:8080/",
          "height": 606
        },
        "id": "3j9W8S1yTIf4",
        "outputId": "de5fb797-d734-44b4-9562-c81b7a0a1113"
      },
      "execution_count": 13,
      "outputs": [
        {
          "output_type": "display_data",
          "data": {
            "text/plain": [
              "<Figure size 640x480 with 1 Axes>"
            ],
            "image/png": "[encoded data removed]"
          },
          "metadata": {}
        }
      ]
    }
  ]
}